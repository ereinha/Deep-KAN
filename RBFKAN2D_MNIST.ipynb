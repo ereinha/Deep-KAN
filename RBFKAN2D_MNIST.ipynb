{
  "cells": [
    {
      "cell_type": "markdown",
      "metadata": {
        "id": "view-in-github",
        "colab_type": "text"
      },
      "source": [
        "<a href=\"https://colab.research.google.com/github/ereinha/Deep-KAN/blob/main/RBFKAN2D_MNIST.ipynb\" target=\"_parent\"><img src=\"https://colab.research.google.com/assets/colab-badge.svg\" alt=\"Open In Colab\"/></a>"
      ]
    },
    {
      "cell_type": "code",
      "execution_count": null,
      "metadata": {
        "id": "4vR_BsdhFQ11"
      },
      "outputs": [],
      "source": [
        "import torch\n",
        "import torch.nn as nn\n",
        "import torch.optim as optim\n",
        "from torch.optim.lr_scheduler import ReduceLROnPlateau\n",
        "import torchvision\n",
        "import torchvision.transforms as transforms\n",
        "from torch.utils.data import DataLoader\n",
        "from tqdm import tqdm\n",
        "from RBF_KAN import *\n",
        "from RBF_KAN_2D import *"
      ]
    },
    {
      "cell_type": "code",
      "execution_count": null,
      "metadata": {
        "id": "tGvfCvU_1FUL"
      },
      "outputs": [],
      "source": [
        "# Load MNIST\n",
        "transform = transforms.Compose([transforms.ToTensor(), transforms.Normalize((0.5,), (0.5,))])\n",
        "trainset = torchvision.datasets.MNIST(root=\"./data\", train=True, download=True, transform=transform)\n",
        "valset = torchvision.datasets.MNIST(root=\"./data\", train=False, download=True, transform=transform)\n",
        "trainloader = DataLoader(trainset, batch_size=64, shuffle=True)\n",
        "valloader = DataLoader(valset, batch_size=64, shuffle=False)"
      ]
    },
    {
      "cell_type": "code",
      "execution_count": null,
      "metadata": {
        "colab": {
          "background_save": true,
          "base_uri": "https://localhost:8080/"
        },
        "id": "ve7VEPZp3AZu",
        "outputId": "582c8202-29b7-4227-abdc-002221412c64"
      },
      "outputs": [
        {
          "name": "stderr",
          "output_type": "stream",
          "text": [
            "/usr/local/lib/python3.10/dist-packages/torch/optim/lr_scheduler.py:28: UserWarning: The verbose parameter is deprecated. Please use get_last_lr() to access the learning rate.\n",
            "  warnings.warn(\"The verbose parameter is deprecated. Please use get_last_lr() \"\n",
            "100%|██████████| 938/938 [00:24<00:00, 38.22it/s, accuracy=0.906, loss=0.295]\n"
          ]
        },
        {
          "name": "stdout",
          "output_type": "stream",
          "text": [
            "Epoch 1, Train Loss: 0.31573774219989015, Train Accuracy: 0.9052838486140725, Val Loss: 0.14635395767778206, Val Accuracy: 0.9575039808917197\n"
          ]
        },
        {
          "name": "stderr",
          "output_type": "stream",
          "text": [
            "100%|██████████| 938/938 [00:21<00:00, 42.92it/s, accuracy=0.969, loss=0.0955]\n"
          ]
        },
        {
          "name": "stdout",
          "output_type": "stream",
          "text": [
            "Epoch 2, Train Loss: 0.12667743687523897, Train Accuracy: 0.9618203624733476, Val Loss: 0.10395291419388358, Val Accuracy: 0.9683519108280255\n"
          ]
        },
        {
          "name": "stderr",
          "output_type": "stream",
          "text": [
            "100%|██████████| 938/938 [00:21<00:00, 42.90it/s, accuracy=1, loss=0.0654]\n"
          ]
        },
        {
          "name": "stdout",
          "output_type": "stream",
          "text": [
            "Epoch 3, Train Loss: 0.08590980000478197, Train Accuracy: 0.9732809168443497, Val Loss: 0.08546605364569303, Val Accuracy: 0.972531847133758\n"
          ]
        },
        {
          "name": "stderr",
          "output_type": "stream",
          "text": [
            "100%|██████████| 938/938 [00:21<00:00, 43.24it/s, accuracy=1, loss=0.00624]\n"
          ]
        },
        {
          "name": "stdout",
          "output_type": "stream",
          "text": [
            "Epoch 4, Train Loss: 0.06140082843923397, Train Accuracy: 0.98042710554371, Val Loss: 0.09175532711388033, Val Accuracy: 0.9715366242038217\n"
          ]
        },
        {
          "name": "stderr",
          "output_type": "stream",
          "text": [
            "100%|██████████| 938/938 [00:21<00:00, 43.07it/s, accuracy=0.969, loss=0.176]\n"
          ]
        },
        {
          "name": "stdout",
          "output_type": "stream",
          "text": [
            "Epoch 5, Train Loss: 0.049317947053325685, Train Accuracy: 0.9840751599147122, Val Loss: 0.11015913256456643, Val Accuracy: 0.9675557324840764\n"
          ]
        },
        {
          "name": "stderr",
          "output_type": "stream",
          "text": [
            "100%|██████████| 938/938 [00:20<00:00, 45.90it/s, accuracy=0.969, loss=0.207]\n"
          ]
        },
        {
          "name": "stdout",
          "output_type": "stream",
          "text": [
            "Epoch 6, Train Loss: 0.047911129949335406, Train Accuracy: 0.9841917643923241, Val Loss: 0.08502240648874486, Val Accuracy: 0.9734275477707006\n"
          ]
        },
        {
          "name": "stderr",
          "output_type": "stream",
          "text": [
            "100%|██████████| 938/938 [00:19<00:00, 47.94it/s, accuracy=1, loss=0.0237]\n"
          ]
        },
        {
          "name": "stdout",
          "output_type": "stream",
          "text": [
            "Epoch 7, Train Loss: 0.03736965956145536, Train Accuracy: 0.9880730277185501, Val Loss: 0.08926036672258474, Val Accuracy: 0.9723328025477707\n"
          ]
        },
        {
          "name": "stderr",
          "output_type": "stream",
          "text": [
            "100%|██████████| 938/938 [00:20<00:00, 46.11it/s, accuracy=1, loss=0.0187]\n"
          ]
        },
        {
          "name": "stdout",
          "output_type": "stream",
          "text": [
            "Epoch 8, Train Loss: 0.033414964668148917, Train Accuracy: 0.9888059701492538, Val Loss: 0.0801256943048626, Val Accuracy: 0.9759156050955414\n"
          ]
        },
        {
          "name": "stderr",
          "output_type": "stream",
          "text": [
            "100%|██████████| 938/938 [00:20<00:00, 45.43it/s, accuracy=1, loss=0.00563]\n"
          ]
        },
        {
          "name": "stdout",
          "output_type": "stream",
          "text": [
            "Epoch 9, Train Loss: 0.034425225042152716, Train Accuracy: 0.9884894722814499, Val Loss: 0.09435437985847535, Val Accuracy: 0.9732285031847133\n"
          ]
        },
        {
          "name": "stderr",
          "output_type": "stream",
          "text": [
            "100%|██████████| 938/938 [00:19<00:00, 47.38it/s, accuracy=0.969, loss=0.0846]\n"
          ]
        },
        {
          "name": "stdout",
          "output_type": "stream",
          "text": [
            "Epoch 10, Train Loss: 0.027067164146303654, Train Accuracy: 0.9907549307036247, Val Loss: 0.08856811343051217, Val Accuracy: 0.9724323248407644\n"
          ]
        },
        {
          "name": "stderr",
          "output_type": "stream",
          "text": [
            "100%|██████████| 938/938 [00:20<00:00, 45.25it/s, accuracy=1, loss=0.0207]\n"
          ]
        },
        {
          "name": "stdout",
          "output_type": "stream",
          "text": [
            "Epoch 11, Train Loss: 0.030319076287051314, Train Accuracy: 0.9893390191897654, Val Loss: 0.09464486840178828, Val Accuracy: 0.9727308917197452\n"
          ]
        },
        {
          "name": "stderr",
          "output_type": "stream",
          "text": [
            "100%|██████████| 938/938 [00:20<00:00, 46.04it/s, accuracy=1, loss=0.0186]\n"
          ]
        },
        {
          "name": "stdout",
          "output_type": "stream",
          "text": [
            "Epoch 12, Train Loss: 0.026354909626837036, Train Accuracy: 0.9913379530916845, Val Loss: 0.09058036824715102, Val Accuracy: 0.9732285031847133\n"
          ]
        },
        {
          "name": "stderr",
          "output_type": "stream",
          "text": [
            "100%|██████████| 938/938 [00:19<00:00, 47.29it/s, accuracy=1, loss=0.000143]\n"
          ]
        },
        {
          "name": "stdout",
          "output_type": "stream",
          "text": [
            "Epoch 13, Train Loss: 0.009513357977264872, Train Accuracy: 0.9970349147121536, Val Loss: 0.06523207082757655, Val Accuracy: 0.982484076433121\n"
          ]
        },
        {
          "name": "stderr",
          "output_type": "stream",
          "text": [
            "100%|██████████| 938/938 [00:21<00:00, 43.98it/s, accuracy=1, loss=0.000786]\n"
          ]
        },
        {
          "name": "stdout",
          "output_type": "stream",
          "text": [
            "Epoch 14, Train Loss: 0.007200008544716304, Train Accuracy: 0.9979177771855011, Val Loss: 0.07158325218401292, Val Accuracy: 0.9798964968152867\n"
          ]
        },
        {
          "name": "stderr",
          "output_type": "stream",
          "text": [
            "100%|██████████| 938/938 [00:22<00:00, 42.57it/s, accuracy=1, loss=0.00237]\n"
          ]
        },
        {
          "name": "stdout",
          "output_type": "stream",
          "text": [
            "Epoch 15, Train Loss: 0.01179698103771098, Train Accuracy: 0.996268656716418, Val Loss: 0.08088887996822519, Val Accuracy: 0.9786027070063694\n"
          ]
        },
        {
          "name": "stderr",
          "output_type": "stream",
          "text": [
            "100%|██████████| 938/938 [00:21<00:00, 43.26it/s, accuracy=1, loss=0.00493]\n"
          ]
        },
        {
          "name": "stdout",
          "output_type": "stream",
          "text": [
            "Epoch 16, Train Loss: 0.010719094377696211, Train Accuracy: 0.9965018656716418, Val Loss: 0.08267255373052765, Val Accuracy: 0.9776074840764332\n"
          ]
        },
        {
          "name": "stderr",
          "output_type": "stream",
          "text": [
            "100%|██████████| 938/938 [00:22<00:00, 41.76it/s, accuracy=1, loss=0.0105]\n"
          ]
        },
        {
          "name": "stdout",
          "output_type": "stream",
          "text": [
            "Epoch 17, Train Loss: 0.009866316254833992, Train Accuracy: 0.9971348614072495, Val Loss: 0.08021594708488745, Val Accuracy: 0.9804936305732485\n"
          ]
        },
        {
          "name": "stderr",
          "output_type": "stream",
          "text": [
            "100%|██████████| 938/938 [00:22<00:00, 42.36it/s, accuracy=1, loss=6.31e-6]\n"
          ]
        },
        {
          "name": "stdout",
          "output_type": "stream",
          "text": [
            "Epoch 18, Train Loss: 0.0021535107219594965, Train Accuracy: 0.9994502931769723, Val Loss: 0.07173594157738243, Val Accuracy: 0.9823845541401274\n"
          ]
        },
        {
          "name": "stderr",
          "output_type": "stream",
          "text": [
            "100%|██████████| 938/938 [00:21<00:00, 43.38it/s, accuracy=1, loss=0.00242]\n"
          ]
        },
        {
          "name": "stdout",
          "output_type": "stream",
          "text": [
            "Epoch 19, Train Loss: 0.0015804446298868587, Train Accuracy: 0.9997001599147122, Val Loss: 0.09910225663912037, Val Accuracy: 0.9748208598726115\n"
          ]
        },
        {
          "name": "stderr",
          "output_type": "stream",
          "text": [
            "100%|██████████| 938/938 [00:19<00:00, 47.12it/s, accuracy=1, loss=0.00152]\n"
          ]
        },
        {
          "name": "stdout",
          "output_type": "stream",
          "text": [
            "Epoch 20, Train Loss: 0.008759030132467796, Train Accuracy: 0.9972847814498934, Val Loss: 0.0791881067022549, Val Accuracy: 0.9794984076433121\n"
          ]
        }
      ],
      "source": [
        "# Define model\n",
        "rbf2d = RBFKAN2D(layers_hidden_x=[28, 28], layers_hidden_y=[28, 28], num_grids=(8,8), use_base_update=True)\n",
        "rbf1d = RBFKAN(layers_hidden=[28*28, 64, 10])\n",
        "model = nn.Sequential(rbf2d, nn.Flatten(start_dim=1), rbf1d)\n",
        "device = torch.device(\"cuda\" if torch.cuda.is_available() else \"cpu\")\n",
        "model.to(device)\n",
        "\n",
        "# Define optimizer\n",
        "optimizer = optim.Adam(model.parameters(), lr=5e-4)\n",
        "\n",
        "# Define loss\n",
        "criterion = nn.CrossEntropyLoss()\n",
        "\n",
        "# Define ReduceLROnPlateau scheduler\n",
        "scheduler = ReduceLROnPlateau(optimizer, mode='min', factor=0.7, patience=3, verbose=True)\n",
        "\n",
        "for epoch in range(20):\n",
        "    # Train\n",
        "    model.train()\n",
        "    total_loss = 0\n",
        "    total_accuracy = 0\n",
        "    with tqdm(trainloader) as pbar:\n",
        "        for images, labels in pbar:\n",
        "            images = images.to(device).squeeze(1)\n",
        "            labels = labels.to(device)\n",
        "            optimizer.zero_grad()\n",
        "            output = model(images)\n",
        "            loss = criterion(output, labels)\n",
        "            loss.backward()\n",
        "            optimizer.step()\n",
        "            accuracy = (output.argmax(dim=1) == labels).float().mean()\n",
        "            total_loss += loss.item()\n",
        "            total_accuracy += accuracy.item()\n",
        "            pbar.set_postfix(loss=loss.item(), accuracy=accuracy.item())\n",
        "    total_loss /= len(trainloader)\n",
        "    total_accuracy /= len(trainloader)\n",
        "\n",
        "    # Validation\n",
        "    model.eval()\n",
        "    val_loss = 0\n",
        "    val_accuracy = 0\n",
        "    with torch.no_grad():\n",
        "        for images, labels in valloader:\n",
        "            images = images.to(device).squeeze(1)\n",
        "            labels = labels.to(device)\n",
        "            output = model(images)\n",
        "            val_loss += criterion(output, labels).item()\n",
        "            val_accuracy += (output.argmax(dim=1) == labels).float().mean().item()\n",
        "    val_loss /= len(valloader)\n",
        "    val_accuracy /= len(valloader)\n",
        "\n",
        "    # Step the scheduler based on validation loss\n",
        "    scheduler.step(val_loss)\n",
        "\n",
        "    print(f\"Epoch {epoch + 1}, Train Loss: {total_loss}, Train Accuracy: {total_accuracy}, Val Loss: {val_loss}, Val Accuracy: {val_accuracy}\")"
      ]
    },
    {
      "cell_type": "code",
      "execution_count": null,
      "metadata": {
        "colab": {
          "background_save": true
        },
        "id": "zKQCTJymDdeJ",
        "outputId": "cb72e109-34d0-478d-99f4-4dc47848dc9d"
      },
      "outputs": [
        {
          "name": "stderr",
          "output_type": "stream",
          "text": [
            "100%|██████████| 938/938 [00:18<00:00, 50.14it/s, accuracy=0.969, loss=0.143]\n"
          ]
        },
        {
          "name": "stdout",
          "output_type": "stream",
          "text": [
            "Epoch 1, Train Loss: 0.46666163372110203, Train Accuracy: 0.8611407249466951, Val Loss: 0.27851956134816264, Val Accuracy: 0.917296974522293\n"
          ]
        },
        {
          "name": "stderr",
          "output_type": "stream",
          "text": [
            "100%|██████████| 938/938 [00:19<00:00, 48.56it/s, accuracy=0.906, loss=0.238]\n"
          ]
        },
        {
          "name": "stdout",
          "output_type": "stream",
          "text": [
            "Epoch 2, Train Loss: 0.28419494114593785, Train Accuracy: 0.9171441897654584, Val Loss: 0.2759908712142782, Val Accuracy: 0.9152070063694268\n"
          ]
        },
        {
          "name": "stderr",
          "output_type": "stream",
          "text": [
            "100%|██████████| 938/938 [00:18<00:00, 50.07it/s, accuracy=0.906, loss=0.516]\n"
          ]
        },
        {
          "name": "stdout",
          "output_type": "stream",
          "text": [
            "Epoch 3, Train Loss: 0.2521118667405615, Train Accuracy: 0.9261893656716418, Val Loss: 0.26507165035007485, Val Accuracy: 0.9238654458598726\n"
          ]
        },
        {
          "name": "stderr",
          "output_type": "stream",
          "text": [
            "100%|██████████| 938/938 [00:19<00:00, 47.82it/s, accuracy=1, loss=0.0429]\n"
          ]
        },
        {
          "name": "stdout",
          "output_type": "stream",
          "text": [
            "Epoch 4, Train Loss: 0.22421736474722814, Train Accuracy: 0.9346681769722814, Val Loss: 0.22056644723104063, Val Accuracy: 0.9360071656050956\n"
          ]
        },
        {
          "name": "stderr",
          "output_type": "stream",
          "text": [
            "100%|██████████| 938/938 [00:18<00:00, 50.77it/s, accuracy=0.969, loss=0.0934]\n"
          ]
        },
        {
          "name": "stdout",
          "output_type": "stream",
          "text": [
            "Epoch 5, Train Loss: 0.20397318650616894, Train Accuracy: 0.9399820095948828, Val Loss: 0.20013507449951995, Val Accuracy: 0.941281847133758\n"
          ]
        },
        {
          "name": "stderr",
          "output_type": "stream",
          "text": [
            "100%|██████████| 938/938 [00:19<00:00, 48.07it/s, accuracy=0.938, loss=0.169]\n"
          ]
        },
        {
          "name": "stdout",
          "output_type": "stream",
          "text": [
            "Epoch 6, Train Loss: 0.1849132060273878, Train Accuracy: 0.9454957356076759, Val Loss: 0.20344603524816215, Val Accuracy: 0.9403861464968153\n"
          ]
        },
        {
          "name": "stderr",
          "output_type": "stream",
          "text": [
            "100%|██████████| 938/938 [00:18<00:00, 50.43it/s, accuracy=0.938, loss=0.201]\n"
          ]
        },
        {
          "name": "stdout",
          "output_type": "stream",
          "text": [
            "Epoch 7, Train Loss: 0.17142514247836463, Train Accuracy: 0.9481942963752665, Val Loss: 0.19354224843447612, Val Accuracy: 0.9425756369426752\n"
          ]
        },
        {
          "name": "stderr",
          "output_type": "stream",
          "text": [
            "100%|██████████| 938/938 [00:18<00:00, 50.31it/s, accuracy=0.938, loss=0.29]\n"
          ]
        },
        {
          "name": "stdout",
          "output_type": "stream",
          "text": [
            "Epoch 8, Train Loss: 0.1548442514494125, Train Accuracy: 0.9535414445628998, Val Loss: 0.19027571817771027, Val Accuracy: 0.946656050955414\n"
          ]
        },
        {
          "name": "stderr",
          "output_type": "stream",
          "text": [
            "100%|██████████| 938/938 [00:19<00:00, 48.63it/s, accuracy=0.938, loss=0.269]\n"
          ]
        },
        {
          "name": "stdout",
          "output_type": "stream",
          "text": [
            "Epoch 9, Train Loss: 0.14199582974750127, Train Accuracy: 0.956972947761194, Val Loss: 0.19375020861151113, Val Accuracy: 0.9437699044585988\n"
          ]
        },
        {
          "name": "stderr",
          "output_type": "stream",
          "text": [
            "100%|██████████| 938/938 [00:19<00:00, 47.36it/s, accuracy=0.969, loss=0.0719]\n"
          ]
        },
        {
          "name": "stdout",
          "output_type": "stream",
          "text": [
            "Epoch 10, Train Loss: 0.13182974091447047, Train Accuracy: 0.9607709221748401, Val Loss: 0.1606646096704611, Val Accuracy: 0.9535230891719745\n"
          ]
        },
        {
          "name": "stderr",
          "output_type": "stream",
          "text": [
            "100%|██████████| 938/938 [00:19<00:00, 49.10it/s, accuracy=1, loss=0.0306]\n"
          ]
        },
        {
          "name": "stdout",
          "output_type": "stream",
          "text": [
            "Epoch 11, Train Loss: 0.12137375667151104, Train Accuracy: 0.9629197761194029, Val Loss: 0.1696859542621525, Val Accuracy: 0.9490445859872612\n"
          ]
        },
        {
          "name": "stderr",
          "output_type": "stream",
          "text": [
            "100%|██████████| 938/938 [00:18<00:00, 50.82it/s, accuracy=0.969, loss=0.0946]\n"
          ]
        },
        {
          "name": "stdout",
          "output_type": "stream",
          "text": [
            "Epoch 12, Train Loss: 0.11107779600556249, Train Accuracy: 0.9659181769722814, Val Loss: 0.15017722269214667, Val Accuracy: 0.9562101910828026\n"
          ]
        },
        {
          "name": "stderr",
          "output_type": "stream",
          "text": [
            "100%|██████████| 938/938 [00:19<00:00, 48.28it/s, accuracy=0.969, loss=0.0792]\n"
          ]
        },
        {
          "name": "stdout",
          "output_type": "stream",
          "text": [
            "Epoch 13, Train Loss: 0.10707478965324824, Train Accuracy: 0.9659348347547975, Val Loss: 0.17227277533999483, Val Accuracy: 0.9507364649681529\n"
          ]
        },
        {
          "name": "stderr",
          "output_type": "stream",
          "text": [
            "100%|██████████| 938/938 [00:18<00:00, 50.58it/s, accuracy=1, loss=0.028]\n"
          ]
        },
        {
          "name": "stdout",
          "output_type": "stream",
          "text": [
            "Epoch 14, Train Loss: 0.10053186000152024, Train Accuracy: 0.9676839019189766, Val Loss: 0.16561235295672408, Val Accuracy: 0.9546178343949044\n"
          ]
        },
        {
          "name": "stderr",
          "output_type": "stream",
          "text": [
            "100%|██████████| 938/938 [00:19<00:00, 48.36it/s, accuracy=0.969, loss=0.0874]\n"
          ]
        },
        {
          "name": "stdout",
          "output_type": "stream",
          "text": [
            "Epoch 15, Train Loss: 0.09461170046536653, Train Accuracy: 0.970532382729211, Val Loss: 0.17382992182970997, Val Accuracy: 0.9478503184713376\n"
          ]
        },
        {
          "name": "stderr",
          "output_type": "stream",
          "text": [
            "100%|██████████| 938/938 [00:18<00:00, 51.32it/s, accuracy=0.938, loss=0.347]\n"
          ]
        },
        {
          "name": "stdout",
          "output_type": "stream",
          "text": [
            "Epoch 16, Train Loss: 0.08956767466844621, Train Accuracy: 0.9721648454157783, Val Loss: 0.1834937260192552, Val Accuracy: 0.9475517515923567\n"
          ]
        },
        {
          "name": "stderr",
          "output_type": "stream",
          "text": [
            "100%|██████████| 938/938 [00:19<00:00, 48.47it/s, accuracy=1, loss=0.0155]\n"
          ]
        },
        {
          "name": "stdout",
          "output_type": "stream",
          "text": [
            "Epoch 17, Train Loss: 0.07213707239494156, Train Accuracy: 0.9782282782515992, Val Loss: 0.15842308634061628, Val Accuracy: 0.9532245222929936\n"
          ]
        },
        {
          "name": "stderr",
          "output_type": "stream",
          "text": [
            "100%|██████████| 938/938 [00:18<00:00, 50.65it/s, accuracy=0.969, loss=0.0595]\n"
          ]
        },
        {
          "name": "stdout",
          "output_type": "stream",
          "text": [
            "Epoch 18, Train Loss: 0.07008761147618976, Train Accuracy: 0.9777785181236673, Val Loss: 0.15414431179090624, Val Accuracy: 0.9583001592356688\n"
          ]
        },
        {
          "name": "stderr",
          "output_type": "stream",
          "text": [
            "100%|██████████| 938/938 [00:18<00:00, 50.59it/s, accuracy=1, loss=0.0283]\n"
          ]
        },
        {
          "name": "stdout",
          "output_type": "stream",
          "text": [
            "Epoch 19, Train Loss: 0.06468018197091117, Train Accuracy: 0.9798607409381663, Val Loss: 0.1497129723522367, Val Accuracy: 0.9567078025477707\n"
          ]
        },
        {
          "name": "stderr",
          "output_type": "stream",
          "text": [
            "100%|██████████| 938/938 [00:18<00:00, 49.58it/s, accuracy=1, loss=0.0189]\n"
          ]
        },
        {
          "name": "stdout",
          "output_type": "stream",
          "text": [
            "Epoch 20, Train Loss: 0.06406086827315557, Train Accuracy: 0.9797441364605544, Val Loss: 0.15598580241203308, Val Accuracy: 0.9561106687898089\n"
          ]
        }
      ],
      "source": [
        "# Define model\n",
        "model = RBFKAN(layers_hidden=[28 * 28, 64, 10])\n",
        "device = torch.device(\"cuda\" if torch.cuda.is_available() else \"cpu\")\n",
        "model.to(device)\n",
        "\n",
        "# Define optimizer\n",
        "optimizer = optim.AdamW(model.parameters(), lr=1e-3)\n",
        "\n",
        "# Define loss\n",
        "criterion = nn.CrossEntropyLoss()\n",
        "\n",
        "# Define ReduceLROnPlateau scheduler\n",
        "scheduler = ReduceLROnPlateau(optimizer, mode='min', factor=0.7, patience=3, verbose=True)\n",
        "\n",
        "for epoch in range(20):\n",
        "    # Train\n",
        "    model.train()\n",
        "    total_loss = 0\n",
        "    total_accuracy = 0\n",
        "    with tqdm(trainloader) as pbar:\n",
        "        for images, labels in pbar:\n",
        "            images = images.view(-1, 28 * 28).to(device)\n",
        "            labels = labels.to(device)\n",
        "            optimizer.zero_grad()\n",
        "            output = model(images)\n",
        "            loss = criterion(output, labels)\n",
        "            loss.backward()\n",
        "            optimizer.step()\n",
        "            accuracy = (output.argmax(dim=1) == labels).float().mean()\n",
        "            total_loss += loss.item()\n",
        "            total_accuracy += accuracy.item()\n",
        "            pbar.set_postfix(loss=loss.item(), accuracy=accuracy.item())\n",
        "    total_loss /= len(trainloader)\n",
        "    total_accuracy /= len(trainloader)\n",
        "\n",
        "    # Validation\n",
        "    model.eval()\n",
        "    val_loss = 0\n",
        "    val_accuracy = 0\n",
        "    with torch.no_grad():\n",
        "        for images, labels in valloader:\n",
        "            images = images.view(-1, 28 * 28).to(device)\n",
        "            labels = labels.to(device)\n",
        "            output = model(images)\n",
        "            val_loss += criterion(output, labels).item()\n",
        "            val_accuracy += (output.argmax(dim=1) == labels).float().mean().item()\n",
        "    val_loss /= len(valloader)\n",
        "    val_accuracy /= len(valloader)\n",
        "\n",
        "    # Step the scheduler based on validation loss\n",
        "    scheduler.step(val_loss)\n",
        "\n",
        "    print(f\"Epoch {epoch + 1}, Train Loss: {total_loss}, Train Accuracy: {total_accuracy}, Val Loss: {val_loss}, Val Accuracy: {val_accuracy}\")"
      ]
    },
    {
      "cell_type": "code",
      "execution_count": null,
      "metadata": {
        "colab": {
          "background_save": true
        },
        "id": "V8ZKdzl8JE_a"
      },
      "outputs": [],
      "source": []
    }
  ],
  "metadata": {
    "accelerator": "GPU",
    "colab": {
      "gpuType": "T4",
      "provenance": [],
      "mount_file_id": "19fcohZCt9i1AO57JwYTa7ISLqZuYSs5H",
      "authorship_tag": "ABX9TyNnjE+oLrXjVPyQk3ONl+rQ",
      "include_colab_link": true
    },
    "kernelspec": {
      "display_name": "Python 3",
      "name": "python3"
    },
    "language_info": {
      "name": "python"
    }
  },
  "nbformat": 4,
  "nbformat_minor": 0
}